{
  "nbformat": 4,
  "nbformat_minor": 0,
  "metadata": {
    "colab": {
      "provenance": [],
      "authorship_tag": "ABX9TyMmniMzH1FoGIhwdf+1qov8",
      "include_colab_link": true
    },
    "kernelspec": {
      "name": "python3",
      "display_name": "Python 3"
    },
    "language_info": {
      "name": "python"
    }
  },
  "cells": [
    {
      "cell_type": "markdown",
      "metadata": {
        "id": "view-in-github",
        "colab_type": "text"
      },
      "source": [
        "<a href=\"https://colab.research.google.com/github/AzamChatrAzar/project1/blob/main/Graph2.ipynb\" target=\"_parent\"><img src=\"https://colab.research.google.com/assets/colab-badge.svg\" alt=\"Open In Colab\"/></a>"
      ]
    },
    {
      "cell_type": "code",
      "execution_count": null,
      "metadata": {
        "colab": {
          "base_uri": "https://localhost:8080/",
          "height": 539
        },
        "id": "cjSK1wR5rZTI",
        "outputId": "7e72541b-3b72-42fa-cb3c-361741892537"
      },
      "outputs": [
        {
          "output_type": "display_data",
          "data": {
            "text/plain": [
              "<Figure size 640x480 with 1 Axes>"
            ],
            "image/png": "[encoded data removed]"
          },
          "metadata": {}
        }
      ],
      "source": [
        "import networkx as nx\n",
        "import matplotlib.pyplot as plt\n",
        "\n",
        "# ایجاد گراف جهت‌دار\n",
        "G = nx.DiGraph()\n",
        "\n",
        "# رئوس\n",
        "vertices = [1, 2, 3, 4, 5, 6,7]\n",
        "G.add_nodes_from(vertices)\n",
        "\n",
        "# یال‌ها\n",
        "edges = [\n",
        "    (1, 2), (2, 3), (3, 1),(3,2),(3,5),(1,7),(7,7),(7,3),(3,7),(4,7),(6,7),\n",
        "    (1, 4), (4, 5), (5, 6),(5,5),(3,3),\n",
        "    (3, 4)\n",
        "]\n",
        "G.add_edges_from(edges)\n",
        "\n",
        "# رسم گراف\n",
        "pos = nx.planar_layout(G)  # چینش مسطح\n",
        "nx.draw(G, pos, with_labels=True, node_color='lightblue',\n",
        "        arrows=True, arrowstyle='->', arrowsize=15)\n",
        "plt.title(\"G\")\n",
        "plt.show()"
      ]
    },
    {
      "cell_type": "markdown",
      "source": [
        "ماتریس مجاورت گراف\n"
      ],
      "metadata": {
        "id": "JQffv9Va3b1Q"
      }
    },
    {
      "cell_type": "code",
      "source": [
        "import numpy as np\n",
        "\n",
        "\n",
        "adj_matrix = np.zeros((7, 7), dtype=int)\n",
        "\n",
        "# پر کردن ماتریس بر اساس یال‌ها\n",
        "for (u, v) in edges:\n",
        "    adj_matrix[u-1][v-1] = 1\n",
        "\n",
        "# نمایش ماتریس\n",
        "print(\"ماتریس مجاورت گراف:\")\n",
        "print(adj_matrix)"
      ],
      "metadata": {
        "colab": {
          "base_uri": "https://localhost:8080/"
        },
        "id": "rZxcST_yss1m",
        "outputId": "8a9b9ac5-fa82-44f2-fad9-8d55046fb8af"
      },
      "execution_count": null,
      "outputs": [
        {
          "output_type": "stream",
          "name": "stdout",
          "text": [
            "ماتریس مجاورت گراف:\n",
            "[[0 1 0 1 0 0 1]\n",
            " [0 0 1 0 0 0 0]\n",
            " [1 1 1 1 1 0 1]\n",
            " [0 0 0 0 1 0 1]\n",
            " [0 0 0 0 1 1 0]\n",
            " [0 0 0 0 0 0 1]\n",
            " [0 0 1 0 0 0 1]]\n"
          ]
        }
      ]
    },
    {
      "cell_type": "markdown",
      "source": [
        "ماتریس انتقال (P)"
      ],
      "metadata": {
        "id": "CXT-5ORr3lzt"
      }
    },
    {
      "cell_type": "code",
      "source": [
        "\n",
        "# محاسبه درجه خروجی هر راس\n",
        "out_degree = {v: 0 for v in vertices}\n",
        "for (u, v) in edges:\n",
        "    out_degree[u] += 1\n",
        "\n",
        "# ایجاد ماتریس انتقال (۶x۶)\n",
        "P = np.zeros((7, 7))\n",
        "\n",
        "# پر کردن ماتریس انتقال\n",
        "for (u, v) in edges:\n",
        "    P[u-1][v-1] = 1 / out_degree[u]  # چون پایتون ایندکس از ۰ شروع می‌شود\n",
        "\n",
        "# نمایش ماتریس انتقال\n",
        "print(\"ماتریس انتقال (P):\")\n",
        "print(P)"
      ],
      "metadata": {
        "colab": {
          "base_uri": "https://localhost:8080/"
        },
        "id": "N-X_xHiIs2_L",
        "outputId": "597aa8db-76be-4913-a0ce-30c17ccad068"
      },
      "execution_count": null,
      "outputs": [
        {
          "output_type": "stream",
          "name": "stdout",
          "text": [
            "ماتریس انتقال (P):\n",
            "[[0.         0.33333333 0.         0.33333333 0.         0.\n",
            "  0.33333333]\n",
            " [0.         0.         1.         0.         0.         0.\n",
            "  0.        ]\n",
            " [0.16666667 0.16666667 0.16666667 0.16666667 0.16666667 0.\n",
            "  0.16666667]\n",
            " [0.         0.         0.         0.         0.5        0.\n",
            "  0.5       ]\n",
            " [0.         0.         0.         0.         0.5        0.5\n",
            "  0.        ]\n",
            " [0.         0.         0.         0.         0.         0.\n",
            "  1.        ]\n",
            " [0.         0.         0.5        0.         0.         0.\n",
            "  0.5       ]]\n"
          ]
        }
      ]
    },
    {
      "cell_type": "markdown",
      "source": [
        "ماتریس انتقال پیج رنک"
      ],
      "metadata": {
        "id": "VN60ffEb3sb3"
      }
    },
    {
      "cell_type": "code",
      "source": [
        "import numpy as np\n",
        "\n",
        "\n",
        "alpha = 0.85\n",
        "n = 7\n",
        "\n",
        "\n",
        "# ماتریس اتصال یکنواخت (Teleportation)\n",
        "teleport = np.ones((n, n)) / n\n",
        "\n",
        "# محاسبه ماتریس Pα\n",
        "P_alpha = alpha * P + (1 - alpha) * teleport\n",
        "\n",
        "# نمایش ماتریس Pα\n",
        "print(f\"ماتریس انتقال پیج رنک (P_alpha) با آلفا = {alpha}:\")\n",
        "print(np.round(P_alpha, 4))"
      ],
      "metadata": {
        "colab": {
          "base_uri": "https://localhost:8080/"
        },
        "id": "YHxKuCxMtCqo",
        "outputId": "4dca0312-7f2b-4222-a1da-fbae397020bb"
      },
      "execution_count": null,
      "outputs": [
        {
          "output_type": "stream",
          "name": "stdout",
          "text": [
            "ماتریس انتقال پیج رنک (P_alpha) با آلفا = 0.85:\n",
            "[[0.0214 0.3048 0.0214 0.3048 0.0214 0.0214 0.3048]\n",
            " [0.0214 0.0214 0.8714 0.0214 0.0214 0.0214 0.0214]\n",
            " [0.1631 0.1631 0.1631 0.1631 0.1631 0.0214 0.1631]\n",
            " [0.0214 0.0214 0.0214 0.0214 0.4464 0.0214 0.4464]\n",
            " [0.0214 0.0214 0.0214 0.0214 0.4464 0.4464 0.0214]\n",
            " [0.0214 0.0214 0.0214 0.0214 0.0214 0.0214 0.8714]\n",
            " [0.0214 0.0214 0.4464 0.0214 0.0214 0.0214 0.4464]]\n"
          ]
        }
      ]
    },
    {
      "cell_type": "markdown",
      "source": [
        "\n",
        "# محاسبه مقادیر ویژه و بردارهای ویژه"
      ],
      "metadata": {
        "id": "xZBsyhVE3zqb"
      }
    },
    {
      "cell_type": "code",
      "source": [
        "\n",
        "\n",
        "# محاسبه مقادیر ویژه و بردارهای ویژه\n",
        "eigenvalues, eigenvectors = np.linalg.eig(P_alpha.T)\n",
        "\n",
        "# ماتریس قطری D\n",
        "D = np.diag(eigenvalues)\n",
        "\n",
        "# ماتریس V (بردارهای ویژه به صورت ستونی)\n",
        "V = eigenvectors\n",
        "\n",
        "# معکوس V\n",
        "V_inv = np.linalg.inv(V)\n",
        "\n",
        "# بررسی صحت تجزیه: P_alpha^T ≈ V D V^{-1}\n",
        "reconstructed = (V @ D @ V_inv).real\n",
        "\n",
        "print(\"مقادیر ویژه:\\n\", np.round(eigenvalues, 4))\n",
        "print(\"\\nبردارهای ویژه (ستون‌ها):\\n\", np.round(V, 4))\n",
        "print(\"\\nماتریس قطری D:\\n\", np.round(D, 4))\n",
        "print(\"\\nبررسی صحت تجزیه (P_alpha^T ≈ V D V^{-1}):\\n\", np.round(reconstructed, 4))"
      ],
      "metadata": {
        "colab": {
          "base_uri": "https://localhost:8080/"
        },
        "id": "tBTiy2nstK3k",
        "outputId": "f79d0eea-925d-458f-eb96-89edc8942762"
      },
      "execution_count": null,
      "outputs": [
        {
          "output_type": "stream",
          "name": "stdout",
          "text": [
            "مقادیر ویژه:\n",
            " [ 1.    +0.j      0.3297+0.302j   0.3297-0.302j  -0.1605+0.2293j\n",
            " -0.1605-0.2293j -0.1967+0.j     -0.    +0.j    ]\n",
            "\n",
            "بردارهای ویژه (ستون‌ها):\n",
            " [[ 0.1264+0.j     -0.0934-0.0943j -0.0934+0.0943j  0.2081+0.2973j\n",
            "   0.2081-0.2973j  0.3258+0.j     -0.    +0.j    ]\n",
            " [ 0.1622+0.j     -0.1774-0.0984j -0.1774+0.0984j  0.3338-0.0478j\n",
            "   0.3338+0.0478j -0.1435+0.j     -0.4082+0.j    ]\n",
            " [ 0.5557+0.j     -0.0163-0.4185j -0.0163+0.4185j -0.7171+0.j\n",
            "  -0.7171-0.j     -0.4522+0.j      0.    +0.j    ]\n",
            " [ 0.1622+0.j     -0.1774-0.0984j -0.1774+0.0984j  0.3338-0.0478j\n",
            "   0.3338+0.0478j -0.1435+0.j     -0.    +0.j    ]\n",
            " [ 0.3397+0.j     -0.2307+0.3301j -0.2307-0.3301j -0.0714+0.0067j\n",
            "  -0.0714-0.0067j  0.2012+0.j      0.    +0.j    ]\n",
            " [ 0.192 +0.j      0.0502+0.3795j  0.0502-0.3795j  0.0705+0.083j\n",
            "   0.0705-0.083j  -0.4347+0.j     -0.4082+0.j    ]\n",
            " [ 0.6858+0.j      0.6449+0.j      0.6449-0.j     -0.1577-0.2914j\n",
            "  -0.1577+0.2914j  0.6471+0.j      0.8165+0.j    ]]\n",
            "\n",
            "ماتریس قطری D:\n",
            " [[ 1.    +0.j      0.    +0.j      0.    +0.j      0.    +0.j\n",
            "   0.    +0.j      0.    +0.j      0.    +0.j    ]\n",
            " [ 0.    +0.j      0.3297+0.302j   0.    +0.j      0.    +0.j\n",
            "   0.    +0.j      0.    +0.j      0.    +0.j    ]\n",
            " [ 0.    +0.j      0.    +0.j      0.3297-0.302j   0.    +0.j\n",
            "   0.    +0.j      0.    +0.j      0.    +0.j    ]\n",
            " [ 0.    +0.j      0.    +0.j      0.    +0.j     -0.1605+0.2293j\n",
            "   0.    +0.j      0.    +0.j      0.    +0.j    ]\n",
            " [ 0.    +0.j      0.    +0.j      0.    +0.j      0.    +0.j\n",
            "  -0.1605-0.2293j  0.    +0.j      0.    +0.j    ]\n",
            " [ 0.    +0.j      0.    +0.j      0.    +0.j      0.    +0.j\n",
            "   0.    +0.j     -0.1967+0.j      0.    +0.j    ]\n",
            " [ 0.    +0.j      0.    +0.j      0.    +0.j      0.    +0.j\n",
            "   0.    +0.j      0.    +0.j     -0.    +0.j    ]]\n",
            "\n",
            "بررسی صحت تجزیه (P_alpha^T ≈ V D V^{-1}):\n",
            " [[0.0214 0.0214 0.1631 0.0214 0.0214 0.0214 0.0214]\n",
            " [0.3048 0.0214 0.1631 0.0214 0.0214 0.0214 0.0214]\n",
            " [0.0214 0.8714 0.1631 0.0214 0.0214 0.0214 0.4464]\n",
            " [0.3048 0.0214 0.1631 0.0214 0.0214 0.0214 0.0214]\n",
            " [0.0214 0.0214 0.1631 0.4464 0.4464 0.0214 0.0214]\n",
            " [0.0214 0.0214 0.0214 0.0214 0.4464 0.0214 0.0214]\n",
            " [0.3048 0.0214 0.1631 0.4464 0.0214 0.8714 0.4464]]\n"
          ]
        }
      ]
    },
    {
      "cell_type": "markdown",
      "source": [
        "#BinaryPolynomial"
      ],
      "metadata": {
        "id": "rZQXOUxh36L_"
      }
    },
    {
      "cell_type": "code",
      "source": [
        "from numpy.linalg import eigvals\n",
        "\n",
        "\n",
        "\n",
        "# کلاس BinaryPolynomial\n",
        "class BinaryPolynomial:\n",
        "    def __init__(self, coefficients):\n",
        "        self.coefficients = coefficients\n",
        "        self.degree = len(coefficients) - 1\n",
        "\n",
        "    def __str__(self):\n",
        "        terms = []\n",
        "        for power, coeff in enumerate(self.coefficients):\n",
        "            if coeff == 1:\n",
        "                if power == 0:\n",
        "                    terms.append(\"1\")\n",
        "                elif power == 1:\n",
        "                    terms.append(\"x\")\n",
        "                else:\n",
        "                    terms.append(f\"x^{power}\")\n",
        "        return \" + \".join(terms) if terms else \"0\"\n"
      ],
      "metadata": {
        "id": "Zqu628kYtbGP"
      },
      "execution_count": null,
      "outputs": []
    },
    {
      "cell_type": "markdown",
      "source": [
        "# تابع محاسبه h(P_alpha)"
      ],
      "metadata": {
        "id": "7eDh1P3G4B97"
      }
    },
    {
      "cell_type": "code",
      "source": [
        "# تابع محاسبه h(P_alpha)\n",
        "def evaluate_poly_on_matrix(P, poly):\n",
        "    n = P.shape[0]\n",
        "    hP = np.zeros((n, n))\n",
        "    for power, coeff in enumerate(poly.coefficients):\n",
        "        if coeff == 1:\n",
        "            hP += np.linalg.matrix_power(P, power)\n",
        "    return hP\n"
      ],
      "metadata": {
        "id": "dSu6EgtmtmiI"
      },
      "execution_count": null,
      "outputs": []
    },
    {
      "cell_type": "code",
      "source": [
        "   # تولید 50 چندجمله‌ای غیرثابت تصادفی\n",
        "n = 7  # درجه چندجمله‌ای\n",
        "polynomials = []\n",
        "while len(polynomials) < 50:\n",
        "    coeffs = np.random.randint(0, 2, size=n+1)\n",
        "    if sum(coeffs[1:]) > 0:  # شرط غیرثابت بودن\n",
        "        polynomials.append(BinaryPolynomial(coeffs))\n"
      ],
      "metadata": {
        "id": "b9Oib3mbt1I5"
      },
      "execution_count": null,
      "outputs": []
    },
    {
      "cell_type": "code",
      "source": [
        "\n",
        "# محاسبه قدر مطلق مقادیر ویژه برای هر چندجمله‌ای\n",
        "abs_eigenvalues = []\n",
        "for poly in polynomials:\n",
        "    hP = evaluate_poly_on_matrix(P_alpha, poly)\n",
        "    evals = eigvals(hP)\n",
        "    abs_evals = np.abs(evals)  # محاسبه قدر مطلق\n",
        "    abs_eigenvalues.append(abs_evals)\n",
        "\n"
      ],
      "metadata": {
        "id": "AuRNmQwgvXP6"
      },
      "execution_count": null,
      "outputs": []
    },
    {
      "cell_type": "code",
      "source": [
        "# نمایش نتایج برای 5 چندجمله‌ای اول\n",
        "print(\"قدر مطلق مقادیر ویژه برای 5 چندجمله‌ای اول:\\n\")\n",
        "for i, (poly, evals) in enumerate(zip(polynomials[:5], abs_eigenvalues[:5]), 1):\n",
        "    print(f\"چندجمله‌ای {i}: {poly}\")\n",
        "    print(\"قدر مطلق مقادیر ویژه:\", np.round(evals, 4))\n",
        "    print(\"بزرگترین مقدار:\", np.round(max(evals), 4))\n",
        "    print()"
      ],
      "metadata": {
        "colab": {
          "base_uri": "https://localhost:8080/"
        },
        "id": "N0E0eVLKvcXC",
        "outputId": "a4133331-007a-48d4-c92a-3e5209b1510f"
      },
      "execution_count": null,
      "outputs": [
        {
          "output_type": "stream",
          "name": "stdout",
          "text": [
            "قدر مطلق مقادیر ویژه برای 5 چندجمله‌ای اول:\n",
            "\n",
            "چندجمله‌ای 1: 1 + x^4 + x^5 + x^7\n",
            "قدر مطلق مقادیر ویژه: [4.     0.9472 0.9472 0.995  0.995  1.0012 1.    ]\n",
            "بزرگترین مقدار: 4.0\n",
            "\n",
            "چندجمله‌ای 2: 1 + x^2 + x^6\n",
            "قدر مطلق مقادیر ویژه: [3.     1.0333 1.0333 1.0387 0.9764 0.9764 1.    ]\n",
            "بزرگترین مقدار: 3.0\n",
            "\n",
            "چندجمله‌ای 3: 1 + x + x^2 + x^3 + x^4 + x^7\n",
            "قدر مطلق مقادیر ویژه: [6.     1.381  1.381  0.8453 0.8453 0.8359 1.    ]\n",
            "بزرگترین مقدار: 6.0\n",
            "\n",
            "چندجمله‌ای 4: 1 + x + x^6 + x^7\n",
            "قدر مطلق مقادیر ویژه: [4.     1.3608 1.3608 0.8706 0.8706 0.8034 1.    ]\n",
            "بزرگترین مقدار: 4.0\n",
            "\n",
            "چندجمله‌ای 5: 1 + x + x^2 + x^4\n",
            "قدر مطلق مقادیر ویژه: [4.     1.4031 1.4031 0.8236 0.8236 0.8435 1.    ]\n",
            "بزرگترین مقدار: 4.0\n",
            "\n"
          ]
        }
      ]
    },
    {
      "cell_type": "code",
      "source": [
        "import numpy as np\n",
        "import matplotlib.pyplot as plt\n",
        "import seaborn as sns\n",
        "from numpy.linalg import eigvals\n",
        "\n",
        "def evaluate_poly_on_matrix(P, coeffs):\n",
        "    \"\"\"Evaluate polynomial with given coefficients on matrix P\"\"\"\n",
        "    n = P.shape[0]\n",
        "    hP = np.zeros((n, n))\n",
        "    for power, coeff in enumerate(coeffs):\n",
        "        if coeff == 1:\n",
        "            hP += np.linalg.matrix_power(P, power)  # Add P^power if coefficient is 1\n",
        "    return hP"
      ],
      "metadata": {
        "id": "1Ar3R00ZvlIu"
      },
      "execution_count": null,
      "outputs": []
    },
    {
      "cell_type": "code",
      "source": [
        "# 2. Generate 50 random non-constant binary polynomials (degree = 6)\n",
        "n_degree = 7 # Degree of polynomials\n",
        "num_polynomials = 50  # Number of polynomials to generate\n",
        "polynomials_coeffs = []  # Store coefficients of generated polynomials\n",
        "\n",
        "while len(polynomials_coeffs) < num_polynomials:\n",
        "    # Generate random binary coefficients [c0, c1, c2, c3] for 1 + x + x^2 + x^3\n",
        "    coeffs = np.random.randint(0, 2, size=n_degree + 1)\n",
        "\n",
        "    # Ensure polynomial is non-constant (at least one x^k term where k >= 1)\n",
        "    if sum(coeffs[1:]) > 0:\n",
        "        polynomials_coeffs.append(coeffs)"
      ],
      "metadata": {
        "id": "V5Xdt2o7vv3k"
      },
      "execution_count": null,
      "outputs": []
    },
    {
      "cell_type": "code",
      "source": [
        "# 3. Compute absolute eigenvalues and store in matrix (columns = polynomials)\n",
        "abs_eigenvalues_matrix = np.zeros((7, num_polynomials))  # 7 eigenvalues × 50 polynomials\n",
        "\n",
        "for i, coeffs in enumerate(polynomials_coeffs):\n",
        "    # Compute h(P_alpha) for current polynomial\n",
        "    hP = evaluate_poly_on_matrix(P_alpha, coeffs)\n",
        "\n",
        "    # Calculate eigenvalues and take absolute values\n",
        "    evals = eigvals(hP)\n",
        "    abs_eigenvalues_matrix[:, i] = np.abs(evals)  # Store in column i"
      ],
      "metadata": {
        "id": "c_2alVtrv0zD"
      },
      "execution_count": null,
      "outputs": []
    },
    {
      "cell_type": "code",
      "source": [
        "\n",
        "\n",
        "# 4. Plot heatmap of absolute eigenvalues\n",
        "plt.figure(figsize=(15, 6))\n",
        "heatmap = sns.heatmap(\n",
        "    abs_eigenvalues_matrix,\n",
        "    cmap=\"YlOrRd\",  # Yellow-Orange-Red color scale\n",
        "    annot=False,     # Don't show values in cells (too dense)\n",
        "    cbar_kws={'label': 'Absolute Eigenvalue'},\n",
        "    yticklabels=[f\"λ{i+1}\" for i in range(7)],  # Eigenvalue labels (λ1 to λ6)\n",
        "    xticklabels=5    # Show x-axis label every 5 polynomials\n",
        ")\n",
        "\n",
        "plt.xlabel(\"Polynomial Index (0 to 49)\")\n",
        "plt.ylabel(\"Eigenvalue Index\")\n",
        "plt.title(\"Absolute Eigenvalues of h(P_α) for 50 Random Binary Polynomials\\n(Columns = Polynomials, Rows = Eigenvalues)\")\n",
        "plt.tight_layout()\n",
        "\n",
        "# Save high-resolution image\n",
        "plt.savefig(\"eigenvalues_heatmap.png\", dpi=300, bbox_inches='tight')\n",
        "plt.show()"
      ],
      "metadata": {
        "colab": {
          "base_uri": "https://localhost:8080/",
          "height": 562
        },
        "id": "ScKRZRHzv-P6",
        "outputId": "d721017b-93a8-41d9-a682-90f002d78cc3"
      },
      "execution_count": null,
      "outputs": [
        {
          "output_type": "display_data",
          "data": {
            "text/plain": [
              "<Figure size 1500x600 with 2 Axes>"
            ],
            "image/png": "[encoded data removed]"
          },
          "metadata": {}
        }
      ]
    },
    {
      "cell_type": "code",
      "source": [],
      "metadata": {
        "id": "GT5nqdUrv9-m"
      },
      "execution_count": null,
      "outputs": []
    }
  ]
}