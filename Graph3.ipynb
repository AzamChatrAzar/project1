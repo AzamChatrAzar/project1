{
  "nbformat": 4,
  "nbformat_minor": 0,
  "metadata": {
    "colab": {
      "provenance": [],
      "authorship_tag": "ABX9TyN8F0/s9khGN+1lv7EUKLmP",
      "include_colab_link": true
    },
    "kernelspec": {
      "name": "python3",
      "display_name": "Python 3"
    },
    "language_info": {
      "name": "python"
    }
  },
  "cells": [
    {
      "cell_type": "markdown",
      "metadata": {
        "id": "view-in-github",
        "colab_type": "text"
      },
      "source": [
        "<a href=\"https://colab.research.google.com/github/AzamChatrAzar/project1/blob/main/Graph3.ipynb\" target=\"_parent\"><img src=\"https://colab.research.google.com/assets/colab-badge.svg\" alt=\"Open In Colab\"/></a>"
      ]
    },
    {
      "cell_type": "code",
      "execution_count": 1,
      "metadata": {
        "colab": {
          "base_uri": "https://localhost:8080/",
          "height": 539
        },
        "id": "cjSK1wR5rZTI",
        "outputId": "df1ad0d9-2c4a-4644-b0c4-4f10ae0de03f"
      },
      "outputs": [
        {
          "output_type": "display_data",
          "data": {
            "text/plain": [
              "<Figure size 640x480 with 1 Axes>"
            ],
            "image/png": "[encoded data removed]"
          },
          "metadata": {}
        }
      ],
      "source": [
        "import networkx as nx\n",
        "import matplotlib.pyplot as plt\n",
        "\n",
        "# ایجاد گراف جهت‌دار\n",
        "G = nx.DiGraph()\n",
        "\n",
        "# رئوس\n",
        "vertices = [1, 2, 3, 4, 5, 6,7]\n",
        "G.add_nodes_from(vertices)\n",
        "\n",
        "# یال‌ها\n",
        "edges = [\n",
        "    (1, 2), (2, 3), (3, 1),(3,2),(3,5),(1,7),(7,7),(7,3),(3,7),(4,7),(6,7),\n",
        "    (1, 4), (4, 5), (5, 6),(5,5),(3,3),\n",
        "    (3, 4)\n",
        "]\n",
        "G.add_edges_from(edges)\n",
        "\n",
        "# رسم گراف\n",
        "pos = nx.planar_layout(G)  # چینش مسطح\n",
        "nx.draw(G, pos, with_labels=True, node_color='lightblue',\n",
        "        arrows=True, arrowstyle='->', arrowsize=15)\n",
        "plt.title(\"G\")\n",
        "plt.show()"
      ]
    },
    {
      "cell_type": "markdown",
      "source": [
        "ماتریس مجاورت گراف\n"
      ],
      "metadata": {
        "id": "JQffv9Va3b1Q"
      }
    },
    {
      "cell_type": "code",
      "source": [
        "import numpy as np\n",
        "\n",
        "\n",
        "adj_matrix = np.zeros((7, 7), dtype=int)\n",
        "\n",
        "# پر کردن ماتریس بر اساس یال‌ها\n",
        "for (u, v) in edges:\n",
        "    adj_matrix[u-1][v-1] = 1\n",
        "\n",
        "# نمایش ماتریس\n",
        "print(\"ماتریس مجاورت گراف:\")\n",
        "print(adj_matrix)"
      ],
      "metadata": {
        "colab": {
          "base_uri": "https://localhost:8080/"
        },
        "id": "rZxcST_yss1m",
        "outputId": "d896247a-1d14-45c1-81ce-cbaf7792871e"
      },
      "execution_count": 2,
      "outputs": [
        {
          "output_type": "stream",
          "name": "stdout",
          "text": [
            "ماتریس مجاورت گراف:\n",
            "[[0 1 0 1 0 0 1]\n",
            " [0 0 1 0 0 0 0]\n",
            " [1 1 1 1 1 0 1]\n",
            " [0 0 0 0 1 0 1]\n",
            " [0 0 0 0 1 1 0]\n",
            " [0 0 0 0 0 0 1]\n",
            " [0 0 1 0 0 0 1]]\n"
          ]
        }
      ]
    },
    {
      "cell_type": "markdown",
      "source": [
        "# ماتریس انتقال (P)\n",
        "\n"
      ],
      "metadata": {
        "id": "CXT-5ORr3lzt"
      }
    },
    {
      "cell_type": "code",
      "source": [
        "\n",
        "# محاسبه درجه خروجی هر راس\n",
        "out_degree = {v: 0 for v in vertices}\n",
        "for (u, v) in edges:\n",
        "    out_degree[u] += 1\n",
        "\n",
        "# ایجاد ماتریس انتقال (۶x۶)\n",
        "P = np.zeros((7, 7))\n",
        "\n",
        "# پر کردن ماتریس انتقال\n",
        "for (u, v) in edges:\n",
        "    P[u-1][v-1] = 1 / out_degree[u]  # چون پایتون ایندکس از ۰ شروع می‌شود\n",
        "\n",
        "# نمایش ماتریس انتقال\n",
        "print(\"ماتریس انتقال (P):\")\n",
        "print(P)"
      ],
      "metadata": {
        "colab": {
          "base_uri": "https://localhost:8080/"
        },
        "id": "N-X_xHiIs2_L",
        "outputId": "de72a6af-3184-4832-a83a-bbb5e4f089ef"
      },
      "execution_count": 4,
      "outputs": [
        {
          "output_type": "stream",
          "name": "stdout",
          "text": [
            "ماتریس انتقال (P):\n",
            "[[0.         0.33333333 0.         0.33333333 0.         0.\n",
            "  0.33333333]\n",
            " [0.         0.         1.         0.         0.         0.\n",
            "  0.        ]\n",
            " [0.16666667 0.16666667 0.16666667 0.16666667 0.16666667 0.\n",
            "  0.16666667]\n",
            " [0.         0.         0.         0.         0.5        0.\n",
            "  0.5       ]\n",
            " [0.         0.         0.         0.         0.5        0.5\n",
            "  0.        ]\n",
            " [0.         0.         0.         0.         0.         0.\n",
            "  1.        ]\n",
            " [0.         0.         0.5        0.         0.         0.\n",
            "  0.5       ]]\n"
          ]
        }
      ]
    },
    {
      "cell_type": "markdown",
      "source": [
        "#ماتریس انتقال پیج رنک"
      ],
      "metadata": {
        "id": "VN60ffEb3sb3"
      }
    },
    {
      "cell_type": "code",
      "source": [
        "import numpy as np\n",
        "\n",
        "\n",
        "alpha = 0.85\n",
        "n = 7\n",
        "\n",
        "\n",
        "# ماتریس اتصال یکنواخت (Teleportation)\n",
        "teleport = np.ones((n, n)) / n\n",
        "\n",
        "# محاسبه ماتریس Pα\n",
        "P_alpha = alpha * P + (1 - alpha) * teleport\n",
        "\n",
        "# نمایش ماتریس Pα\n",
        "print(f\"ماتریس انتقال پیج رنک (P_alpha) با آلفا = {alpha}:\")\n",
        "print(np.round(P_alpha, 4))"
      ],
      "metadata": {
        "colab": {
          "base_uri": "https://localhost:8080/"
        },
        "id": "YHxKuCxMtCqo",
        "outputId": "f7557fb1-0946-452d-f0b8-60a1678db61f"
      },
      "execution_count": 5,
      "outputs": [
        {
          "output_type": "stream",
          "name": "stdout",
          "text": [
            "ماتریس انتقال پیج رنک (P_alpha) با آلفا = 0.85:\n",
            "[[0.0214 0.3048 0.0214 0.3048 0.0214 0.0214 0.3048]\n",
            " [0.0214 0.0214 0.8714 0.0214 0.0214 0.0214 0.0214]\n",
            " [0.1631 0.1631 0.1631 0.1631 0.1631 0.0214 0.1631]\n",
            " [0.0214 0.0214 0.0214 0.0214 0.4464 0.0214 0.4464]\n",
            " [0.0214 0.0214 0.0214 0.0214 0.4464 0.4464 0.0214]\n",
            " [0.0214 0.0214 0.0214 0.0214 0.0214 0.0214 0.8714]\n",
            " [0.0214 0.0214 0.4464 0.0214 0.0214 0.0214 0.4464]]\n"
          ]
        }
      ]
    },
    {
      "cell_type": "markdown",
      "source": [
        "\n",
        "# محاسبه مقادیر ویژه و بردارهای ویژه"
      ],
      "metadata": {
        "id": "xZBsyhVE3zqb"
      }
    },
    {
      "cell_type": "code",
      "source": [
        "\n",
        "from numpy.linalg import eig, matrix_rank\n",
        "\n",
        "# 2. محاسبه مقدار ویژه ماکس و بردار ویژه برای P_alpha\n",
        "eigenvalues, eigenvectors = eig(P_alpha)\n",
        "max_idx = np.argmax(np.abs(eigenvalues))\n",
        "lambda_max = eigenvalues[max_idx]\n",
        "v_max = eigenvectors[:, max_idx].reshape(-1, 1)\n",
        "\n",
        "print(f\"مقدار ویژه ماکس P_alpha: {lambda_max:.4f}\")\n",
        "print(f\"بردار ویژه متناظر:\\n{v_max}\\n\")\n"
      ],
      "metadata": {
        "colab": {
          "base_uri": "https://localhost:8080/"
        },
        "id": "0EGYkKjNzpcr",
        "outputId": "fb12ce23-4a13-4daf-d02d-4cf7d89a3967"
      },
      "execution_count": 7,
      "outputs": [
        {
          "output_type": "stream",
          "name": "stdout",
          "text": [
            "مقدار ویژه ماکس P_alpha: 0.7591+0.0000j\n",
            "بردار ویژه متناظر:\n",
            "[[0.53850304+0.j]\n",
            " [0.62130998+0.j]\n",
            " [0.49304857+0.j]\n",
            " [0.2335746 +0.j]\n",
            " [0.14676638+0.j]\n",
            " [0.06923892+0.j]]\n",
            "\n"
          ]
        }
      ]
    },
    {
      "cell_type": "markdown",
      "source": [
        "#BinaryPolynomial"
      ],
      "metadata": {
        "id": "rZQXOUxh36L_"
      }
    },
    {
      "cell_type": "code",
      "source": [
        "# 3. تولید 50 چندجمله‌ای تصادفی غیرثابت\n",
        "def generate_polynomials(num_polys=50, degree=6):\n",
        "    polynomials = []\n",
        "    while len(polynomials) < num_polys:\n",
        "        coeffs = np.random.randint(0, 2, size=degree+1)\n",
        "        if np.any(coeffs[1:]):  # حداقل یک ضریب غیرثابت\n",
        "            polynomials.append(coeffs)\n",
        "    return polynomials\n",
        "\n",
        "polynomials = generate_polynomials(50)"
      ],
      "metadata": {
        "id": "51nIZH1L0wTW"
      },
      "execution_count": 8,
      "outputs": []
    },
    {
      "cell_type": "markdown",
      "source": [
        "# 4. تحلیل استقلال خطی بردارهای ویژه"
      ],
      "metadata": {
        "id": "7eDh1P3G4B97"
      }
    },
    {
      "cell_type": "code",
      "source": [
        "# 4. تحلیل استقلال خطی بردارهای ویژه\n",
        "independent_polys = []\n",
        "\n",
        "for i, coeffs in enumerate(polynomials):\n",
        "    # محاسبه h(P_alpha)\n",
        "    hP = sum(c * np.linalg.matrix_power(P_alpha, p)\n",
        "             for p, c in enumerate(coeffs) if c != 0)\n",
        "\n",
        "    # محاسبه مقادیر ویژه و بردارهای ویژه\n",
        "    h_eigenvalues, h_eigenvectors = eig(hP)\n",
        "    h_max_idx = np.argmax(np.abs(h_eigenvalues))\n",
        "    h_lambda_max = h_eigenvalues[h_max_idx]\n",
        "    h_v_max = h_eigenvectors[:, h_max_idx].reshape(-1, 1)\n",
        "\n",
        "    # بررسی استقلال خطی\n",
        "    matrix_for_rank = np.hstack([v_max, h_v_max])\n",
        "    if matrix_rank(matrix_for_rank) == 2:\n",
        "        independent_polys.append({\n",
        "            'polynomial': coeffs,\n",
        "            'lambda_max': h_lambda_max,\n",
        "            'eigenvector': h_v_max\n",
        "        })"
      ],
      "metadata": {
        "id": "GT5nqdUrv9-m"
      },
      "execution_count": 9,
      "outputs": []
    },
    {
      "cell_type": "code",
      "source": [
        "# 5. نمایش نتایج\n",
        "print(f\"از {len(polynomials)} چندجمله‌ای، {len(independent_polys)} مورد بردار ویژه مستقل تولید کردند:\")\n",
        "for i, item in enumerate(independent_polys[:5]):  # نمایش 5 مورد اول\n",
        "    print(f\"\\nچندجمله‌ای {i+1}: {item['polynomial']}\")\n",
        "    print(f\"مقدار ویژه ماکس: {item['lambda_max']:.4f}\")\n",
        "    print(f\"بردار ویژه:\\n{item['eigenvector']}\")"
      ],
      "metadata": {
        "colab": {
          "base_uri": "https://localhost:8080/"
        },
        "id": "YrWGtFsf1IoD",
        "outputId": "cf23e07e-07c6-4082-c459-14a849899b95"
      },
      "execution_count": 10,
      "outputs": [
        {
          "output_type": "stream",
          "name": "stdout",
          "text": [
            "از 50 چندجمله‌ای، 0 مورد بردار ویژه مستقل تولید کردند:\n"
          ]
        }
      ]
    }
  ]
}